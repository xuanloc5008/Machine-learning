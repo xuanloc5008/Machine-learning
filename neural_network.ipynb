{
 "cells": [
  {
   "cell_type": "code",
   "execution_count": 1,
   "metadata": {},
   "outputs": [],
   "source": [
    "import torch\n",
    "import torch.nn as nn\n",
    "import torch.optim as optim\n",
    "import torch.nn.functional as F\n",
    "from torchvision import datasets, transforms\n",
    "from torch.utils.data import DataLoader\n"
   ]
  },
  {
   "cell_type": "code",
   "execution_count": 10,
   "metadata": {},
   "outputs": [],
   "source": [
    "class MultiLayerNN(nn.Module):\n",
    "    def __init__(self, input_size, hidden_size, num_classes):\n",
    "        super(MultiLayerNN, self).__init__()\n",
    "        self.fc1 = nn.Linear(input_size, hidden_size)  \n",
    "        self.fc2 = nn.Linear(hidden_size, num_classes) \n",
    "\n",
    "    def forward(self, x):\n",
    "        out = self.fc1(x)\n",
    "        out = F.relu(out) \n",
    "        out = self.fc2(out)\n",
    "        return out\n"
   ]
  },
  {
   "cell_type": "code",
   "execution_count": 11,
   "metadata": {},
   "outputs": [],
   "source": [
    "transform = transforms.Compose([\n",
    "    transforms.ToTensor(),                \n",
    "    transforms.Normalize((0.5,), (0.5,))  \n",
    "])\n",
    "\n",
    "train_dataset = datasets.MNIST(root='./data', train=True, transform=transform, download=True)\n",
    "train_loader = DataLoader(dataset=train_dataset, batch_size=64, shuffle=True)\n",
    "\n",
    "test_dataset = datasets.MNIST(root='./data', train=False, transform=transform, download=True)\n",
    "test_loader = DataLoader(dataset=test_dataset, batch_size=64, shuffle=False)\n"
   ]
  },
  {
   "cell_type": "code",
   "execution_count": 12,
   "metadata": {},
   "outputs": [],
   "source": [
    "input_size = 28 * 28 \n",
    "hidden_size = 128     \n",
    "num_classes = 10      \n",
    "learning_rate = 0.01\n",
    "\n",
    "model = MultiLayerNN(input_size, hidden_size, num_classes)\n",
    "criterion = nn.CrossEntropyLoss()           \n",
    "optimizer = torch.optim.SGD(model.parameters(), lr=learning_rate)  \n"
   ]
  },
  {
   "cell_type": "code",
   "execution_count": 13,
   "metadata": {},
   "outputs": [
    {
     "name": "stdout",
     "output_type": "stream",
     "text": [
      "Epoch [1/5], Step [100/938], Loss: 1.4590\n",
      "Epoch [1/5], Step [200/938], Loss: 1.0595\n",
      "Epoch [1/5], Step [300/938], Loss: 0.7772\n",
      "Epoch [1/5], Step [400/938], Loss: 0.7269\n",
      "Epoch [1/5], Step [500/938], Loss: 0.5114\n",
      "Epoch [1/5], Step [600/938], Loss: 0.4918\n",
      "Epoch [1/5], Step [700/938], Loss: 0.3385\n",
      "Epoch [1/5], Step [800/938], Loss: 0.4597\n",
      "Epoch [1/5], Step [900/938], Loss: 0.4479\n",
      "Epoch [2/5], Step [100/938], Loss: 0.4617\n",
      "Epoch [2/5], Step [200/938], Loss: 0.3278\n",
      "Epoch [2/5], Step [300/938], Loss: 0.2963\n",
      "Epoch [2/5], Step [400/938], Loss: 0.3617\n",
      "Epoch [2/5], Step [500/938], Loss: 0.5156\n",
      "Epoch [2/5], Step [600/938], Loss: 0.5294\n",
      "Epoch [2/5], Step [700/938], Loss: 0.3297\n",
      "Epoch [2/5], Step [800/938], Loss: 0.2375\n",
      "Epoch [2/5], Step [900/938], Loss: 0.3889\n",
      "Epoch [3/5], Step [100/938], Loss: 0.2712\n",
      "Epoch [3/5], Step [200/938], Loss: 0.2305\n",
      "Epoch [3/5], Step [300/938], Loss: 0.4436\n",
      "Epoch [3/5], Step [400/938], Loss: 0.1796\n",
      "Epoch [3/5], Step [500/938], Loss: 0.2321\n",
      "Epoch [3/5], Step [600/938], Loss: 0.4232\n",
      "Epoch [3/5], Step [700/938], Loss: 0.3580\n",
      "Epoch [3/5], Step [800/938], Loss: 0.2611\n",
      "Epoch [3/5], Step [900/938], Loss: 0.2594\n",
      "Epoch [4/5], Step [100/938], Loss: 0.2825\n",
      "Epoch [4/5], Step [200/938], Loss: 0.2930\n",
      "Epoch [4/5], Step [300/938], Loss: 0.3888\n",
      "Epoch [4/5], Step [400/938], Loss: 0.1325\n",
      "Epoch [4/5], Step [500/938], Loss: 0.2907\n",
      "Epoch [4/5], Step [600/938], Loss: 0.3383\n",
      "Epoch [4/5], Step [700/938], Loss: 0.2738\n",
      "Epoch [4/5], Step [800/938], Loss: 0.2687\n",
      "Epoch [4/5], Step [900/938], Loss: 0.5762\n",
      "Epoch [5/5], Step [100/938], Loss: 0.2542\n",
      "Epoch [5/5], Step [200/938], Loss: 0.4951\n",
      "Epoch [5/5], Step [300/938], Loss: 0.2616\n",
      "Epoch [5/5], Step [400/938], Loss: 0.2804\n",
      "Epoch [5/5], Step [500/938], Loss: 0.2458\n",
      "Epoch [5/5], Step [600/938], Loss: 0.2902\n",
      "Epoch [5/5], Step [700/938], Loss: 0.3599\n",
      "Epoch [5/5], Step [800/938], Loss: 0.2023\n",
      "Epoch [5/5], Step [900/938], Loss: 0.1478\n"
     ]
    }
   ],
   "source": [
    "num_epochs = 5\n",
    "\n",
    "for epoch in range(num_epochs):\n",
    "    for i, (images, labels) in enumerate(train_loader):\n",
    "        images = images.view(-1, 28 * 28)\n",
    "\n",
    "        outputs = model(images)\n",
    "        loss = criterion(outputs, labels)\n",
    "\n",
    "        optimizer.zero_grad()\n",
    "        loss.backward()\n",
    "        optimizer.step()\n",
    "\n",
    "        if (i + 1) % 100 == 0:\n",
    "            print(f'Epoch [{epoch + 1}/{num_epochs}], Step [{i + 1}/{len(train_loader)}], Loss: {loss.item():.4f}')\n"
   ]
  },
  {
   "cell_type": "code",
   "execution_count": 14,
   "metadata": {},
   "outputs": [
    {
     "name": "stdout",
     "output_type": "stream",
     "text": [
      "Accuracy: 92.35%\n"
     ]
    }
   ],
   "source": [
    "model.eval()  \n",
    "with torch.no_grad():  \n",
    "    correct = 0\n",
    "    total = 0\n",
    "    for images, labels in test_loader:\n",
    "        images = images.view(-1, 28 * 28)  \n",
    "        outputs = model(images)\n",
    "        _, predicted = torch.max(outputs.data, 1)  # Get predictions\n",
    "        total += labels.size(0)\n",
    "        correct += (predicted == labels).sum().item()\n",
    "\n",
    "    print(f'Accuracy: {100 * correct / total:.2f}%')\n"
   ]
  },
  {
   "cell_type": "code",
   "execution_count": null,
   "metadata": {},
   "outputs": [],
   "source": []
  }
 ],
 "metadata": {
  "kernelspec": {
   "display_name": "Python 3",
   "language": "python",
   "name": "python3"
  },
  "language_info": {
   "codemirror_mode": {
    "name": "ipython",
    "version": 3
   },
   "file_extension": ".py",
   "mimetype": "text/x-python",
   "name": "python",
   "nbconvert_exporter": "python",
   "pygments_lexer": "ipython3",
   "version": "3.9.6"
  }
 },
 "nbformat": 4,
 "nbformat_minor": 2
}

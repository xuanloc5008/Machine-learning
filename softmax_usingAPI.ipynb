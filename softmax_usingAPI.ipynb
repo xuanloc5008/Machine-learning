{
 "cells": [
  {
   "cell_type": "code",
   "execution_count": 26,
   "metadata": {},
   "outputs": [],
   "source": [
    "import time\n",
    "from torchvision import datasets\n",
    "from torchvision import transforms\n",
    "from torch.utils.data import DataLoader\n",
    "import torch.nn.functional as F\n",
    "import torch\n",
    "%matplotlib inline\n",
    "import matplotlib\n",
    "import matplotlib.pyplot as plt"
   ]
  },
  {
   "cell_type": "code",
   "execution_count": 30,
   "metadata": {},
   "outputs": [
    {
     "name": "stdout",
     "output_type": "stream",
     "text": [
      "Image batch dimensions: torch.Size([256, 1, 28, 28])\n",
      "Image label dimensions: torch.Size([256])\n"
     ]
    }
   ],
   "source": [
    "\n",
    "# Device\n",
    "DEVICE = torch.device(\"cuda:0\" if torch.cuda.is_available() else \"cpu\")\n",
    "\n",
    "random_seed = 123\n",
    "learning_rate = 0.1\n",
    "num_epochs = 5\n",
    "batch_size = 256\n",
    "\n",
    "num_features = 784\n",
    "num_classes = 10\n",
    "\n",
    "train_dataset = datasets.MNIST(root='data', \n",
    "                               train=True, \n",
    "                               transform=transforms.ToTensor(),\n",
    "                               download=True)\n",
    "\n",
    "test_dataset = datasets.MNIST(root='data', \n",
    "                              train=False, \n",
    "                              transform=transforms.ToTensor())\n",
    "\n",
    "\n",
    "train_loader = DataLoader(dataset=train_dataset, \n",
    "                          batch_size=batch_size, \n",
    "                          shuffle=True)\n",
    "\n",
    "test_loader = DataLoader(dataset=test_dataset, \n",
    "                         batch_size=batch_size, \n",
    "                         shuffle=False)\n",
    "\n",
    "\n",
    "# Checking the dataset\n",
    "for images, labels in train_loader:  \n",
    "    print('Image batch dimensions:', images.shape) #NCHW\n",
    "    print('Image label dimensions:', labels.shape)\n",
    "    break\n",
    "\n"
   ]
  },
  {
   "cell_type": "code",
   "execution_count": 31,
   "metadata": {},
   "outputs": [],
   "source": [
    "\n",
    "class SoftmaxRegression(torch.nn.Module):\n",
    "\n",
    "    def __init__(self, num_features, num_classes):\n",
    "        super(SoftmaxRegression, self).__init__()\n",
    "        self.linear = torch.nn.Linear(num_features, num_classes)\n",
    "        \n",
    "        self.linear.weight.detach().zero_()\n",
    "        self.linear.bias.detach().zero_()\n",
    "        \n",
    "    def forward(self, x):\n",
    "        z = self.linear(x)\n",
    "        probas = F.softmax(z, dim=1)\n",
    "        return z, probas\n",
    "\n",
    "model = SoftmaxRegression(num_features=num_features,\n",
    "                          num_classes=num_classes)\n",
    "\n",
    "model.to(DEVICE)\n",
    "\n",
    "\n",
    "optimizer = torch.optim.SGD(model.parameters(), lr=learning_rate)  "
   ]
  },
  {
   "cell_type": "code",
   "execution_count": 32,
   "metadata": {},
   "outputs": [
    {
     "name": "stdout",
     "output_type": "stream",
     "text": [
      "Epoch: 001/005 | Batch 000/234 | Cost: 2.3026\n",
      "Epoch: 001/005 | Batch 050/234 | Cost: 0.7693\n",
      "Epoch: 001/005 | Batch 100/234 | Cost: 0.5321\n",
      "Epoch: 001/005 | Batch 150/234 | Cost: 0.5617\n",
      "Epoch: 001/005 | Batch 200/234 | Cost: 0.5501\n",
      "Epoch: 001/005 training accuracy: 88.05%\n",
      "Time elapsed: 0.06 min\n",
      "Epoch: 002/005 | Batch 000/234 | Cost: 0.4793\n",
      "Epoch: 002/005 | Batch 050/234 | Cost: 0.3686\n",
      "Epoch: 002/005 | Batch 100/234 | Cost: 0.4535\n",
      "Epoch: 002/005 | Batch 150/234 | Cost: 0.3731\n",
      "Epoch: 002/005 | Batch 200/234 | Cost: 0.4791\n",
      "Epoch: 002/005 training accuracy: 89.26%\n",
      "Time elapsed: 0.12 min\n",
      "Epoch: 003/005 | Batch 000/234 | Cost: 0.4057\n",
      "Epoch: 003/005 | Batch 050/234 | Cost: 0.4456\n",
      "Epoch: 003/005 | Batch 100/234 | Cost: 0.3770\n",
      "Epoch: 003/005 | Batch 150/234 | Cost: 0.3893\n",
      "Epoch: 003/005 | Batch 200/234 | Cost: 0.2996\n",
      "Epoch: 003/005 training accuracy: 89.94%\n",
      "Time elapsed: 0.17 min\n",
      "Epoch: 004/005 | Batch 000/234 | Cost: 0.4298\n",
      "Epoch: 004/005 | Batch 050/234 | Cost: 0.3918\n",
      "Epoch: 004/005 | Batch 100/234 | Cost: 0.3756\n",
      "Epoch: 004/005 | Batch 150/234 | Cost: 0.3902\n",
      "Epoch: 004/005 | Batch 200/234 | Cost: 0.3132\n",
      "Epoch: 004/005 training accuracy: 90.29%\n",
      "Time elapsed: 0.23 min\n",
      "Epoch: 005/005 | Batch 000/234 | Cost: 0.3102\n",
      "Epoch: 005/005 | Batch 050/234 | Cost: 0.3763\n",
      "Epoch: 005/005 | Batch 100/234 | Cost: 0.3618\n",
      "Epoch: 005/005 | Batch 150/234 | Cost: 0.3139\n",
      "Epoch: 005/005 | Batch 200/234 | Cost: 0.3217\n",
      "Epoch: 005/005 training accuracy: 90.61%\n",
      "Time elapsed: 0.28 min\n"
     ]
    }
   ],
   "source": [
    "# Manual seed for deterministic data loader\n",
    "torch.manual_seed(random_seed)\n",
    "\n",
    "def compute_accuracy(model, data_loader):\n",
    "    correct_pred, num_examples = 0, 0\n",
    "    \n",
    "    for features, targets in data_loader:\n",
    "        features = features.view(-1, 28*28).to(DEVICE)\n",
    "        targets = targets.to(DEVICE)\n",
    "        logits, probas = model(features)\n",
    "        _, predicted_labels = torch.max(probas, 1)\n",
    "        num_examples += targets.size(0)\n",
    "        correct_pred += (predicted_labels == targets).sum()\n",
    "        \n",
    "    return correct_pred.float() / num_examples * 100\n",
    "    \n",
    "\n",
    "start_time = time.time()\n",
    "epoch_costs = []\n",
    "for epoch in range(num_epochs):\n",
    "    avg_cost = 0.\n",
    "    for batch_idx, (features, targets) in enumerate(train_loader):\n",
    "        \n",
    "        features = features.view(-1, 28*28).to(DEVICE)\n",
    "        targets = targets.to(DEVICE)\n",
    "            \n",
    "        ### FORWARD AND BACK PROP\n",
    "        logits, probas = model(features)\n",
    "        \n",
    "        cost = F.cross_entropy(logits, targets)\n",
    "        optimizer.zero_grad()\n",
    "        cost.backward()\n",
    "        avg_cost += cost\n",
    "        \n",
    "        optimizer.step()\n",
    "        \n",
    "        if not batch_idx % 50:\n",
    "            print ('Epoch: %03d/%03d | Batch %03d/%03d | Cost: %.4f' \n",
    "                   %(epoch+1, num_epochs, batch_idx, \n",
    "                     len(train_dataset)//batch_size, cost))\n",
    "            \n",
    "    with torch.set_grad_enabled(False):\n",
    "        avg_cost = avg_cost/len(train_dataset)\n",
    "        epoch_costs.append(avg_cost)\n",
    "        print('Epoch: %03d/%03d training accuracy: %.2f%%' % (\n",
    "              epoch+1, num_epochs, \n",
    "              compute_accuracy(model, train_loader)))\n",
    "        print('Time elapsed: %.2f min' % ((time.time() - start_time)/60))"
   ]
  },
  {
   "cell_type": "code",
   "execution_count": 33,
   "metadata": {},
   "outputs": [
    {
     "data": {
      "image/png": "[encoded data removed]",
      "text/plain": [
       "<Figure size 640x480 with 4 Axes>"
      ]
     },
     "metadata": {},
     "output_type": "display_data"
    }
   ],
   "source": [
    "import matplotlib.pyplot as plt\n",
    "batch_num = 1\n",
    "for i, (features, targets) in enumerate(test_loader):\n",
    "    if i == batch_num:\n",
    "        break\n",
    "    \n",
    "fig, ax = plt.subplots(1, 4)\n",
    "for i in range(4):\n",
    "    ax[i].imshow(features[i].view(28, 28), cmap=matplotlib.cm.binary)\n",
    "\n",
    "\n",
    "plt.show()"
   ]
  },
  {
   "cell_type": "code",
   "execution_count": 34,
   "metadata": {},
   "outputs": [
    {
     "name": "stdout",
     "output_type": "stream",
     "text": [
      "Predicted labels tensor([2, 8, 2, 0])\n"
     ]
    }
   ],
   "source": [
    "_, predictions = model.forward(features[:4].view(-1, 28*28).to(DEVICE))\n",
    "predictions = torch.argmax(predictions, dim=1\n",
    "                           )\n",
    "print('Predicted labels', predictions)"
   ]
  },
  {
   "cell_type": "code",
   "execution_count": null,
   "metadata": {},
   "outputs": [],
   "source": []
  },
  {
   "cell_type": "code",
   "execution_count": null,
   "metadata": {},
   "outputs": [],
   "source": []
  }
 ],
 "metadata": {
  "kernelspec": {
   "display_name": "Python 3",
   "language": "python",
   "name": "python3"
  },
  "language_info": {
   "codemirror_mode": {
    "name": "ipython",
    "version": 3
   },
   "file_extension": ".py",
   "mimetype": "text/x-python",
   "name": "python",
   "nbconvert_exporter": "python",
   "pygments_lexer": "ipython3",
   "version": "3.9.6"
  }
 },
 "nbformat": 4,
 "nbformat_minor": 2
}
